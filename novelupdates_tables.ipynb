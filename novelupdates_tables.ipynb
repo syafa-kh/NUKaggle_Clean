{
 "cells": [
  {
   "cell_type": "code",
   "execution_count": 1,
   "metadata": {},
   "outputs": [],
   "source": [
    "# Import libraries\n",
    "import pandas as pd"
   ]
  },
  {
   "cell_type": "code",
   "execution_count": 2,
   "metadata": {},
   "outputs": [
    {
     "data": {
      "text/html": [
       "<div>\n",
       "<style scoped>\n",
       "    .dataframe tbody tr th:only-of-type {\n",
       "        vertical-align: middle;\n",
       "    }\n",
       "\n",
       "    .dataframe tbody tr th {\n",
       "        vertical-align: top;\n",
       "    }\n",
       "\n",
       "    .dataframe thead th {\n",
       "        text-align: right;\n",
       "    }\n",
       "</style>\n",
       "<table border=\"1\" class=\"dataframe\">\n",
       "  <thead>\n",
       "    <tr style=\"text-align: right;\">\n",
       "      <th></th>\n",
       "      <th>id</th>\n",
       "      <th>activity_all_time_rank</th>\n",
       "      <th>activity_month_rank</th>\n",
       "      <th>activity_week_rank</th>\n",
       "      <th>assoc_names</th>\n",
       "      <th>authors</th>\n",
       "      <th>chapter_latest_translated</th>\n",
       "      <th>chapters_original_current</th>\n",
       "      <th>complete_original</th>\n",
       "      <th>complete_translated</th>\n",
       "      <th>...</th>\n",
       "      <th>rating</th>\n",
       "      <th>rating_votes</th>\n",
       "      <th>reading_list_all_time_rank</th>\n",
       "      <th>reading_list_month_rank</th>\n",
       "      <th>recommendation_list_ids</th>\n",
       "      <th>recommended_series_ids</th>\n",
       "      <th>related_series_ids</th>\n",
       "      <th>release_freq</th>\n",
       "      <th>start_year</th>\n",
       "      <th>tags</th>\n",
       "    </tr>\n",
       "  </thead>\n",
       "  <tbody>\n",
       "    <tr>\n",
       "      <th>0</th>\n",
       "      <td>179</td>\n",
       "      <td>26.0</td>\n",
       "      <td>273.0</td>\n",
       "      <td>158.0</td>\n",
       "      <td>['CSG', 'Hun Dun Jian Shen', 'Hỗn Độn Kiếm Thầ...</td>\n",
       "      <td>['xin xing xiao yao', '心星逍遥']</td>\n",
       "      <td>c3147</td>\n",
       "      <td>3247 chapters</td>\n",
       "      <td>0.0</td>\n",
       "      <td>0.0</td>\n",
       "      <td>...</td>\n",
       "      <td>3.5</td>\n",
       "      <td>1229.0</td>\n",
       "      <td>130.0</td>\n",
       "      <td>203.0</td>\n",
       "      <td>[45478, 44961, 41774, 38109, 37163]</td>\n",
       "      <td>[14]</td>\n",
       "      <td>NaN</td>\n",
       "      <td>0.9</td>\n",
       "      <td>2010.0</td>\n",
       "      <td>['adapted to manhua', 'arranged marriage', 'ar...</td>\n",
       "    </tr>\n",
       "    <tr>\n",
       "      <th>1</th>\n",
       "      <td>180</td>\n",
       "      <td>363.0</td>\n",
       "      <td>600.0</td>\n",
       "      <td>575.0</td>\n",
       "      <td>['DD', 'Ma Thiên Ký', 'Mo Tian Ji', '魔天记']</td>\n",
       "      <td>['wang yu', '忘语']</td>\n",
       "      <td>c857</td>\n",
       "      <td>1572 chapters</td>\n",
       "      <td>1.0</td>\n",
       "      <td>0.0</td>\n",
       "      <td>...</td>\n",
       "      <td>4.2</td>\n",
       "      <td>679.0</td>\n",
       "      <td>338.0</td>\n",
       "      <td>633.0</td>\n",
       "      <td>[37524, 36429, 34551, 32709, 31905]</td>\n",
       "      <td>[2765]</td>\n",
       "      <td>[2765, 4745]</td>\n",
       "      <td>1.0</td>\n",
       "      <td>2013.0</td>\n",
       "      <td>['arranged marriage', 'artifact crafting', 'ar...</td>\n",
       "    </tr>\n",
       "    <tr>\n",
       "      <th>2</th>\n",
       "      <td>349</td>\n",
       "      <td>294.0</td>\n",
       "      <td>1198.0</td>\n",
       "      <td>717.0</td>\n",
       "      <td>['Goblin no Oukoku', 'ゴブリンの王国']</td>\n",
       "      <td>['春野隠者']</td>\n",
       "      <td>v4c275 part2</td>\n",
       "      <td>371 chapters</td>\n",
       "      <td>1.0</td>\n",
       "      <td>0.0</td>\n",
       "      <td>...</td>\n",
       "      <td>3.8</td>\n",
       "      <td>506.0</td>\n",
       "      <td>177.0</td>\n",
       "      <td>1428.0</td>\n",
       "      <td>[44407, 39959, 36585, 34982, 31964]</td>\n",
       "      <td>[246]</td>\n",
       "      <td>NaN</td>\n",
       "      <td>5.3</td>\n",
       "      <td>2012</td>\n",
       "      <td>['accelerated growth', 'aristocracy', 'army bu...</td>\n",
       "    </tr>\n",
       "    <tr>\n",
       "      <th>3</th>\n",
       "      <td>439</td>\n",
       "      <td>102.0</td>\n",
       "      <td>181.0</td>\n",
       "      <td>559.0</td>\n",
       "      <td>['Magicraft Meister', 'マギクラフト・マイスター']</td>\n",
       "      <td>['aki gitsune', '秋ぎつね']</td>\n",
       "      <td>c515</td>\n",
       "      <td>14 volumes</td>\n",
       "      <td>1.0</td>\n",
       "      <td>0.0</td>\n",
       "      <td>...</td>\n",
       "      <td>3.6</td>\n",
       "      <td>483.0</td>\n",
       "      <td>102.0</td>\n",
       "      <td>539.0</td>\n",
       "      <td>[34809, 34153, 33408, 33311, 29589]</td>\n",
       "      <td>[552]</td>\n",
       "      <td>NaN</td>\n",
       "      <td>3.7</td>\n",
       "      <td>2013.0</td>\n",
       "      <td>['adapted to drama cd', 'adapted to manga', 'a...</td>\n",
       "    </tr>\n",
       "    <tr>\n",
       "      <th>4</th>\n",
       "      <td>513</td>\n",
       "      <td>44.0</td>\n",
       "      <td>664.0</td>\n",
       "      <td>378.0</td>\n",
       "      <td>['Cô Vợ Tổng Giám Đốc Xinh Đẹp Của Tôi', 'MWIA...</td>\n",
       "      <td>['cabbage flatbread', '霉干菜烧饼']</td>\n",
       "      <td>c1485</td>\n",
       "      <td>1664 chapters</td>\n",
       "      <td>1.0</td>\n",
       "      <td>0.0</td>\n",
       "      <td>...</td>\n",
       "      <td>4.1</td>\n",
       "      <td>1339.0</td>\n",
       "      <td>156.0</td>\n",
       "      <td>298.0</td>\n",
       "      <td>[43611, 41774, 41135, 39246, 38321]</td>\n",
       "      <td>[5433]</td>\n",
       "      <td>NaN</td>\n",
       "      <td>1.3</td>\n",
       "      <td>2011</td>\n",
       "      <td>['an*l', 'abandoned children', 'aliens', 'arro...</td>\n",
       "    </tr>\n",
       "  </tbody>\n",
       "</table>\n",
       "<p>5 rows × 27 columns</p>\n",
       "</div>"
      ],
      "text/plain": [
       "    id  activity_all_time_rank  activity_month_rank  activity_week_rank  \\\n",
       "0  179                    26.0                273.0               158.0   \n",
       "1  180                   363.0                600.0               575.0   \n",
       "2  349                   294.0               1198.0               717.0   \n",
       "3  439                   102.0                181.0               559.0   \n",
       "4  513                    44.0                664.0               378.0   \n",
       "\n",
       "                                         assoc_names  \\\n",
       "0  ['CSG', 'Hun Dun Jian Shen', 'Hỗn Độn Kiếm Thầ...   \n",
       "1         ['DD', 'Ma Thiên Ký', 'Mo Tian Ji', '魔天记']   \n",
       "2                    ['Goblin no Oukoku', 'ゴブリンの王国']   \n",
       "3              ['Magicraft Meister', 'マギクラフト・マイスター']   \n",
       "4  ['Cô Vợ Tổng Giám Đốc Xinh Đẹp Của Tôi', 'MWIA...   \n",
       "\n",
       "                          authors chapter_latest_translated  \\\n",
       "0   ['xin xing xiao yao', '心星逍遥']                     c3147   \n",
       "1               ['wang yu', '忘语']                      c857   \n",
       "2                        ['春野隠者']              v4c275 part2   \n",
       "3         ['aki gitsune', '秋ぎつね']                      c515   \n",
       "4  ['cabbage flatbread', '霉干菜烧饼']                     c1485   \n",
       "\n",
       "  chapters_original_current  complete_original  complete_translated  ...  \\\n",
       "0             3247 chapters                0.0                  0.0  ...   \n",
       "1             1572 chapters                1.0                  0.0  ...   \n",
       "2              371 chapters                1.0                  0.0  ...   \n",
       "3                14 volumes                1.0                  0.0  ...   \n",
       "4             1664 chapters                1.0                  0.0  ...   \n",
       "\n",
       "  rating rating_votes  reading_list_all_time_rank reading_list_month_rank  \\\n",
       "0    3.5       1229.0                       130.0                   203.0   \n",
       "1    4.2        679.0                       338.0                   633.0   \n",
       "2    3.8        506.0                       177.0                  1428.0   \n",
       "3    3.6        483.0                       102.0                   539.0   \n",
       "4    4.1       1339.0                       156.0                   298.0   \n",
       "\n",
       "               recommendation_list_ids recommended_series_ids  \\\n",
       "0  [45478, 44961, 41774, 38109, 37163]                   [14]   \n",
       "1  [37524, 36429, 34551, 32709, 31905]                 [2765]   \n",
       "2  [44407, 39959, 36585, 34982, 31964]                  [246]   \n",
       "3  [34809, 34153, 33408, 33311, 29589]                  [552]   \n",
       "4  [43611, 41774, 41135, 39246, 38321]                 [5433]   \n",
       "\n",
       "  related_series_ids  release_freq  start_year  \\\n",
       "0                NaN           0.9      2010.0   \n",
       "1       [2765, 4745]           1.0      2013.0   \n",
       "2                NaN           5.3        2012   \n",
       "3                NaN           3.7      2013.0   \n",
       "4                NaN           1.3        2011   \n",
       "\n",
       "                                                tags  \n",
       "0  ['adapted to manhua', 'arranged marriage', 'ar...  \n",
       "1  ['arranged marriage', 'artifact crafting', 'ar...  \n",
       "2  ['accelerated growth', 'aristocracy', 'army bu...  \n",
       "3  ['adapted to drama cd', 'adapted to manga', 'a...  \n",
       "4  ['an*l', 'abandoned children', 'aliens', 'arro...  \n",
       "\n",
       "[5 rows x 27 columns]"
      ]
     },
     "execution_count": 2,
     "metadata": {},
     "output_type": "execute_result"
    }
   ],
   "source": [
    "# Read raw novel data\n",
    "df = pd.read_csv('novels_2022-02.csv')\n",
    "df.head()"
   ]
  },
  {
   "cell_type": "markdown",
   "metadata": {},
   "source": [
    "# Create Genre Table"
   ]
  },
  {
   "cell_type": "code",
   "execution_count": 3,
   "metadata": {},
   "outputs": [
    {
     "data": {
      "text/plain": [
       "0    action, adventure, harem, martial arts, mature...\n",
       "1    action, adventure, harem, martial arts, myster...\n",
       "2     action, adventure, drama, fantasy, harem, seinen\n",
       "3    adventure, drama, fantasy, mecha, romance, sci...\n",
       "4    action, drama, ecchi, harem, martial arts, mat...\n",
       "Name: genres, dtype: object"
      ]
     },
     "execution_count": 3,
     "metadata": {},
     "output_type": "execute_result"
    }
   ],
   "source": [
    "# Create a Series filled with cleaned Genres strings\n",
    "df_genres = df['genres'].apply(lambda x:x.replace('[','').replace(']','').replace(\"'\",''))\n",
    "df_genres.head()"
   ]
  },
  {
   "cell_type": "code",
   "execution_count": 4,
   "metadata": {},
   "outputs": [],
   "source": [
    "df_genres_list = pd.DataFrame(columns=['genre'])        # Create empty dataframe\n",
    "\n",
    "# Iterate through every row in df_genres series, split every string into arrays\n",
    "# For every string in the array, check if string already exist in df_genres_list\n",
    "# If not, then insert that string\n",
    "for rows in df_genres:\n",
    "    arr_temp = rows.split(',')\n",
    "    # print(arr_temp)\n",
    "    for arr in arr_temp:\n",
    "        if not (df_genres_list['genre'].eq(arr.strip())).any():\n",
    "            dict_temp = {'genre':arr.strip()}\n",
    "            df_genres_list = pd.concat([df_genres_list,pd.DataFrame(dict_temp,index=[0])],ignore_index=True)\n",
    "\n",
    "df_genres_list = df_genres_list.sort_values(by=['genre'],ascending=True).reset_index(drop=True)             # sort and reset index"
   ]
  },
  {
   "cell_type": "code",
   "execution_count": 5,
   "metadata": {},
   "outputs": [
    {
     "data": {
      "text/html": [
       "<div>\n",
       "<style scoped>\n",
       "    .dataframe tbody tr th:only-of-type {\n",
       "        vertical-align: middle;\n",
       "    }\n",
       "\n",
       "    .dataframe tbody tr th {\n",
       "        vertical-align: top;\n",
       "    }\n",
       "\n",
       "    .dataframe thead th {\n",
       "        text-align: right;\n",
       "    }\n",
       "</style>\n",
       "<table border=\"1\" class=\"dataframe\">\n",
       "  <thead>\n",
       "    <tr style=\"text-align: right;\">\n",
       "      <th></th>\n",
       "      <th>genre</th>\n",
       "    </tr>\n",
       "  </thead>\n",
       "  <tbody>\n",
       "    <tr>\n",
       "      <th>0</th>\n",
       "      <td>action</td>\n",
       "    </tr>\n",
       "    <tr>\n",
       "      <th>1</th>\n",
       "      <td>adult</td>\n",
       "    </tr>\n",
       "    <tr>\n",
       "      <th>2</th>\n",
       "      <td>adventure</td>\n",
       "    </tr>\n",
       "    <tr>\n",
       "      <th>3</th>\n",
       "      <td>comedy</td>\n",
       "    </tr>\n",
       "    <tr>\n",
       "      <th>4</th>\n",
       "      <td>drama</td>\n",
       "    </tr>\n",
       "  </tbody>\n",
       "</table>\n",
       "</div>"
      ],
      "text/plain": [
       "       genre\n",
       "0     action\n",
       "1      adult\n",
       "2  adventure\n",
       "3     comedy\n",
       "4      drama"
      ]
     },
     "execution_count": 5,
     "metadata": {},
     "output_type": "execute_result"
    }
   ],
   "source": [
    "df_genres_list.head()"
   ]
  },
  {
   "cell_type": "code",
   "execution_count": 61,
   "metadata": {},
   "outputs": [],
   "source": [
    "df_genres_list.to_csv('genres.csv')         # export to csv"
   ]
  },
  {
   "cell_type": "markdown",
   "metadata": {},
   "source": [
    "# Create Tags Label"
   ]
  },
  {
   "cell_type": "code",
   "execution_count": 6,
   "metadata": {},
   "outputs": [
    {
     "data": {
      "text/plain": [
       "0    adapted to manhua, arranged marriage, arrogant...\n",
       "1    arranged marriage, artifact crafting, artifact...\n",
       "2    accelerated growth, aristocracy, army building...\n",
       "3    adapted to drama cd, adapted to manga, artifac...\n",
       "4    an*l, abandoned children, aliens, arrogant cha...\n",
       "Name: tags, dtype: object"
      ]
     },
     "execution_count": 6,
     "metadata": {},
     "output_type": "execute_result"
    }
   ],
   "source": [
    "# Create a Series filled with cleaned Tags strings\n",
    "df_tags = df['tags'].apply(lambda x:x.replace('[','').replace(']','').replace(\"'\",'').replace('\"',''))\n",
    "df_tags.head()"
   ]
  },
  {
   "cell_type": "code",
   "execution_count": 12,
   "metadata": {},
   "outputs": [],
   "source": [
    "df_tags_list = pd.DataFrame(columns=['tags'])               # Create empty dataframe\n",
    "\n",
    "# Iterate through every row in df_tags series, split every string into arrays\n",
    "# For every string in the array, check if string already exist in df_tags_list\n",
    "# If not, then insert that string\n",
    "for rows in df_tags:\n",
    "    arr_temp = rows.split(',')\n",
    "    # print(arr_temp)\n",
    "    for arr in arr_temp:\n",
    "        if not (df_tags_list['tags'].eq(arr.strip())).any():\n",
    "            dict_temp = {'tags':arr.strip()}\n",
    "            df_tags_list = pd.concat([df_tags_list,pd.DataFrame(dict_temp,index=[0])],ignore_index=True)\n",
    "\n",
    "df_tags_list = df_tags_list.sort_values(by=['tags'],ascending=True).reset_index(drop=True)      # Sort and reset index\n",
    "df_tags_list = df_tags_list.drop(axis='index',labels=[0])                                       # Drop the first index (null value)"
   ]
  },
  {
   "cell_type": "code",
   "execution_count": 13,
   "metadata": {},
   "outputs": [
    {
     "data": {
      "text/html": [
       "<div>\n",
       "<style scoped>\n",
       "    .dataframe tbody tr th:only-of-type {\n",
       "        vertical-align: middle;\n",
       "    }\n",
       "\n",
       "    .dataframe tbody tr th {\n",
       "        vertical-align: top;\n",
       "    }\n",
       "\n",
       "    .dataframe thead th {\n",
       "        text-align: right;\n",
       "    }\n",
       "</style>\n",
       "<table border=\"1\" class=\"dataframe\">\n",
       "  <thead>\n",
       "    <tr style=\"text-align: right;\">\n",
       "      <th></th>\n",
       "      <th>tags</th>\n",
       "    </tr>\n",
       "  </thead>\n",
       "  <tbody>\n",
       "    <tr>\n",
       "      <th>1</th>\n",
       "      <td>abandoned children</td>\n",
       "    </tr>\n",
       "    <tr>\n",
       "      <th>2</th>\n",
       "      <td>ability steal</td>\n",
       "    </tr>\n",
       "    <tr>\n",
       "      <th>3</th>\n",
       "      <td>absent parents</td>\n",
       "    </tr>\n",
       "    <tr>\n",
       "      <th>4</th>\n",
       "      <td>abusive characters</td>\n",
       "    </tr>\n",
       "    <tr>\n",
       "      <th>5</th>\n",
       "      <td>academy</td>\n",
       "    </tr>\n",
       "  </tbody>\n",
       "</table>\n",
       "</div>"
      ],
      "text/plain": [
       "                 tags\n",
       "1  abandoned children\n",
       "2       ability steal\n",
       "3      absent parents\n",
       "4  abusive characters\n",
       "5             academy"
      ]
     },
     "execution_count": 13,
     "metadata": {},
     "output_type": "execute_result"
    }
   ],
   "source": [
    "df_tags_list.head()"
   ]
  },
  {
   "cell_type": "code",
   "execution_count": 56,
   "metadata": {},
   "outputs": [],
   "source": [
    "df_tags_list.to_csv('tags.csv')"
   ]
  },
  {
   "cell_type": "markdown",
   "metadata": {},
   "source": [
    "# Create Authors table"
   ]
  },
  {
   "cell_type": "code",
   "execution_count": 14,
   "metadata": {},
   "outputs": [
    {
     "data": {
      "text/plain": [
       "0      xin xing xiao yao ,  心星逍遥 \n",
       "1                  wang yu ,  忘语 \n",
       "2                           春野隠者 \n",
       "3            aki gitsune ,  秋ぎつね \n",
       "4     cabbage flatbread ,  霉干菜烧饼 \n",
       "Name: authors, dtype: object"
      ]
     },
     "execution_count": 14,
     "metadata": {},
     "output_type": "execute_result"
    }
   ],
   "source": [
    "# Create a Series filled with cleaned Authors strings\n",
    "df_authors = df['authors'].apply(lambda x:x.replace('[','').replace(']','').replace(\"'\",' ').replace('\"',' '))\n",
    "df_authors.head()"
   ]
  },
  {
   "cell_type": "code",
   "execution_count": 15,
   "metadata": {},
   "outputs": [],
   "source": [
    "df_authors_list = pd.DataFrame(columns=['author'])                  # Create empty dataframe\n",
    "\n",
    "# Iterate through every row in df_authors series, split every string into arrays\n",
    "# Select the last array element, check if string already exist in df_tags_list\n",
    "# If not, then insert that string\n",
    "for rows in df_authors:\n",
    "    str_temp = rows.split(',')[-1].strip()\n",
    "    # print(str_temp)\n",
    "    if not (df_authors_list['author'].eq(str_temp)).any():\n",
    "        dict_temp = {'author':str_temp}\n",
    "        df_authors_list = pd.concat([df_authors_list,pd.DataFrame(dict_temp,index=[0])],ignore_index=True)\n",
    "df_authors_list = df_authors_list.sort_values(by=['author'],ascending=True).reset_index(drop=True)\n",
    "df_authors_list = df_authors_list.drop(axis='index',labels=0)"
   ]
  },
  {
   "cell_type": "code",
   "execution_count": 16,
   "metadata": {},
   "outputs": [
    {
     "data": {
      "text/html": [
       "<div>\n",
       "<style scoped>\n",
       "    .dataframe tbody tr th:only-of-type {\n",
       "        vertical-align: middle;\n",
       "    }\n",
       "\n",
       "    .dataframe tbody tr th {\n",
       "        vertical-align: top;\n",
       "    }\n",
       "\n",
       "    .dataframe thead th {\n",
       "        text-align: right;\n",
       "    }\n",
       "</style>\n",
       "<table border=\"1\" class=\"dataframe\">\n",
       "  <thead>\n",
       "    <tr style=\"text-align: right;\">\n",
       "      <th></th>\n",
       "      <th>author</th>\n",
       "    </tr>\n",
       "  </thead>\n",
       "  <tbody>\n",
       "    <tr>\n",
       "      <th>1</th>\n",
       "      <td>098</td>\n",
       "    </tr>\n",
       "    <tr>\n",
       "      <th>2</th>\n",
       "      <td>11월의봄</td>\n",
       "    </tr>\n",
       "    <tr>\n",
       "      <th>3</th>\n",
       "      <td>135</td>\n",
       "    </tr>\n",
       "    <tr>\n",
       "      <th>4</th>\n",
       "      <td>210210</td>\n",
       "    </tr>\n",
       "    <tr>\n",
       "      <th>5</th>\n",
       "      <td>24k纯二</td>\n",
       "    </tr>\n",
       "  </tbody>\n",
       "</table>\n",
       "</div>"
      ],
      "text/plain": [
       "   author\n",
       "1     098\n",
       "2   11월의봄\n",
       "3     135\n",
       "4  210210\n",
       "5   24k纯二"
      ]
     },
     "execution_count": 16,
     "metadata": {},
     "output_type": "execute_result"
    }
   ],
   "source": [
    "df_authors_list.head()"
   ]
  },
  {
   "cell_type": "code",
   "execution_count": 76,
   "metadata": {},
   "outputs": [],
   "source": [
    "df_authors_list.to_csv('authors.csv')"
   ]
  }
 ],
 "metadata": {
  "kernelspec": {
   "display_name": "Python 3.9.12 ('base')",
   "language": "python",
   "name": "python3"
  },
  "language_info": {
   "codemirror_mode": {
    "name": "ipython",
    "version": 3
   },
   "file_extension": ".py",
   "mimetype": "text/x-python",
   "name": "python",
   "nbconvert_exporter": "python",
   "pygments_lexer": "ipython3",
   "version": "3.9.12"
  },
  "orig_nbformat": 4,
  "vscode": {
   "interpreter": {
    "hash": "ad2bdc8ecc057115af97d19610ffacc2b4e99fae6737bb82f5d7fb13d2f2c186"
   }
  }
 },
 "nbformat": 4,
 "nbformat_minor": 2
}
